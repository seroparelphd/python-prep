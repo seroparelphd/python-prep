{
 "cells": [
  {
   "cell_type": "markdown",
   "id": "0d012751",
   "metadata": {},
   "source": [
    "# Importing a Module or Package\n",
    "\n",
    "In this notebook we will learn about importing modules and packages.\n",
    "\n",
    "By the end of this notebook you will know about:\n",
    "- What a module/package is,\n",
    "- Why we might to want use one and\n",
    "- Importing a module/package."
   ]
  },
  {
   "cell_type": "markdown",
   "id": "698d6cc4",
   "metadata": {},
   "source": [
    "## Modules and Packages\n",
    "\n",
    "Sometimes we will want to do something with python that is not built into base python. You can code it up yourself, but in many cases someone else has already written that code and collected it into a <i>module</i> or <i>package</i>.\n",
    "\n",
    "Modules and packages are collections of pre-written code that you can use. The main difference between the two is in how much code has be pre-written. A module consists of a single pre-written python file while a package consists of many files.\n",
    "\n",
    "We will touch more on specific packages in the following notebooks, for now we will focus on some basic module/package syntax by using a couple of specific modules."
   ]
  },
  {
   "cell_type": "markdown",
   "id": "3f947c89",
   "metadata": {},
   "source": [
    "### Importing a Module/Package\n",
    "\n",
    "#### `math`\n",
    "\n",
    "The `math` module contains many mathematical functions and objects you may be interested in like $\\sin$, $\\cos$, $e$, $\\pi$ and $\\log$."
   ]
  },
  {
   "cell_type": "code",
   "execution_count": 1,
   "id": "701fab36",
   "metadata": {},
   "outputs": [],
   "source": [
    "## importing a package/module happens with import package_name\n",
    "import math\n",
    "\n",
    "## When this code is run, you will import the math module"
   ]
  },
  {
   "cell_type": "code",
   "execution_count": 2,
   "id": "c2d00b29",
   "metadata": {},
   "outputs": [
    {
     "data": {
      "text/plain": [
       "3.141592653589793"
      ]
     },
     "execution_count": 2,
     "metadata": {},
     "output_type": "execute_result"
    }
   ],
   "source": [
    "## modules/packages have a number of built-in objects, and methods we can use\n",
    "## let's start with pi\n",
    "## First write the package name then a period then the object/function you want\n",
    "## for example math.pi\n",
    "math.pi"
   ]
  },
  {
   "cell_type": "code",
   "execution_count": 4,
   "id": "cd19116d",
   "metadata": {},
   "outputs": [
    {
     "data": {
      "text/plain": [
       "-0.7071067811865475"
      ]
     },
     "execution_count": 4,
     "metadata": {},
     "output_type": "execute_result"
    }
   ],
   "source": [
    "## You code\n",
    "## Try finding the cosine of 3pi/4\n",
    "## cosine is stored in math.cos\n",
    "math.cos(3*math.pi/4)"
   ]
  },
  {
   "cell_type": "markdown",
   "id": "3af65492",
   "metadata": {},
   "source": [
    "You can learn more about a module/package with the corresponding documentation. When you are learning how a new module/package works, going there is usually your first step.\n",
    "\n",
    "Here we can see the documentation for the `math` module, <a href=\"https://docs.python.org/3/library/math.html\">https://docs.python.org/3/library/math.html</a>.\n",
    "\n",
    "If you're new to python, reading documentation can seem difficult, that is normal! It can take a little bit to get comfortable reading documentation (often called the docs)."
   ]
  },
  {
   "cell_type": "code",
   "execution_count": 8,
   "id": "1c8498c1",
   "metadata": {},
   "outputs": [
    {
     "name": "stdout",
     "output_type": "stream",
     "text": [
      "1.1139433523068367\n",
      "1.1139433523068367\n"
     ]
    }
   ],
   "source": [
    "## Practice reading documentation and find out\n",
    "## how to compute the base 10 logarithm of a number using the\n",
    "## math package\n",
    "print(math.log10(13))\n",
    "print(math.log(13,10))"
   ]
  },
  {
   "cell_type": "markdown",
   "id": "cc79cc92",
   "metadata": {},
   "source": [
    "### Import With a Shorter Name\n",
    "\n",
    "Sometimes module/package names can be cumbersome - we will see an example of that soon - luckily we can import a package with a shorter name.\n",
    "\n",
    "#### `random`\n",
    "\n",
    "Let's practice with the `random` module, <a href=\"https://docs.python.org/3/library/random.html\">https://docs.python.org/3/library/random.html</a>."
   ]
  },
  {
   "cell_type": "code",
   "execution_count": 9,
   "id": "4d385eb8",
   "metadata": {},
   "outputs": [],
   "source": [
    "## The syntax is import package_name as shortened_name\n",
    "import random as r"
   ]
  },
  {
   "cell_type": "code",
   "execution_count": 10,
   "id": "8308b228",
   "metadata": {},
   "outputs": [
    {
     "data": {
      "text/plain": [
       "5"
      ]
     },
     "execution_count": 10,
     "metadata": {},
     "output_type": "execute_result"
    }
   ],
   "source": [
    "## Now we can get a (pseudo)random integer between 1 and 10\n",
    "## using randint\n",
    "r.randint(1,10)"
   ]
  },
  {
   "cell_type": "markdown",
   "id": "3ea269c1",
   "metadata": {},
   "source": [
    "### Importing a Specific Object or Function\n",
    "\n",
    "Sometimes, packages can be quite large but you only want a small part of the package (like a single function), and thus importing the entire package can waste your computer's memory.\n",
    "\n",
    "It is possible to import just a small part of the package as well!"
   ]
  },
  {
   "cell_type": "code",
   "execution_count": 11,
   "id": "966a5196",
   "metadata": {},
   "outputs": [],
   "source": [
    "## say from package_name import what you want\n",
    "from math import exp"
   ]
  },
  {
   "cell_type": "code",
   "execution_count": 12,
   "id": "974489f1",
   "metadata": {},
   "outputs": [
    {
     "data": {
      "text/plain": [
       "2.718281828459045"
      ]
     },
     "execution_count": 12,
     "metadata": {},
     "output_type": "execute_result"
    }
   ],
   "source": [
    "## Now we can use euler's number without the entire math package\n",
    "exp(1)"
   ]
  },
  {
   "cell_type": "markdown",
   "id": "8c1dd874",
   "metadata": {},
   "source": [
    "You now have a grasp on the basics of python packages. That's good because we'll be learning exclusively about different python packages from here on out."
   ]
  },
  {
   "cell_type": "markdown",
   "id": "7f49af48",
   "metadata": {},
   "source": [
    "--------------------------\n",
    "\n",
    "This notebook was written for the Erd&#337;s Institute C&#337;de Data Science Boot Camp by Matthew Osborne, Ph. D., 2023.\n",
    "\n",
    "Any potential redistributors must seek and receive permission from Matthew Tyler Osborne, Ph.D. prior to redistribution. Redistribution of the material contained in this repository is conditional on acknowledgement of Matthew Tyler Osborne, Ph.D.'s original authorship and sponsorship of the Erdős Institute as subject to the license (see License.md)"
   ]
  },
  {
   "cell_type": "code",
   "execution_count": null,
   "id": "3612e79c",
   "metadata": {},
   "outputs": [],
   "source": []
  }
 ],
 "metadata": {
  "kernelspec": {
   "display_name": "erdos_ds_environment",
   "language": "python",
   "name": "python3"
  },
  "language_info": {
   "codemirror_mode": {
    "name": "ipython",
    "version": 3
   },
   "file_extension": ".py",
   "mimetype": "text/x-python",
   "name": "python",
   "nbconvert_exporter": "python",
   "pygments_lexer": "ipython3",
   "version": "3.12.11"
  }
 },
 "nbformat": 4,
 "nbformat_minor": 5
}
