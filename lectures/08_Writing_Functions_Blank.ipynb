{
 "cells": [
  {
   "cell_type": "markdown",
   "id": "e1c9147f",
   "metadata": {},
   "source": [
    "# Writing Functions\n",
    "\n",
    "In this notebook we will demonstrate how to write functions in python.\n",
    "\n",
    "By the end of this notebook you will know about:\n",
    "- What a function is,\n",
    "- Defining a function,\n",
    "- `return` statements,\n",
    "- Functions with arguments,\n",
    "- Variable scope and\n",
    "- Anonymous functions.\n",
    "\n",
    "Let's get started!"
   ]
  },
  {
   "cell_type": "markdown",
   "id": "e96c40c9",
   "metadata": {},
   "source": [
    "## What is a Function?\n",
    "\n",
    "If you are running the exact same chunk of code once or twice you can probably just copy and paste as needed, however, if you find yourself copy and pasting more than three times, it is probably in your best interest to instead write a <i>function</i> (sometimes called <i>method</i>) that you can just call instead. A function is a snippet of code that is executed any time you call its name.\n",
    "\n",
    "## Writing Functions\n",
    "\n",
    "We will start with a silly (to me at least) example and work up our function competence from there."
   ]
  },
  {
   "cell_type": "code",
   "execution_count": null,
   "id": "a26e37c9",
   "metadata": {},
   "outputs": [],
   "source": [
    "## To write a function you start with def function_name() then have a colon\n",
    "## all code you want included as a part of the function should be \n",
    "## properly indented!\n",
    "\n",
    "# def function_name():\n",
    "def hello_there():\n",
    "    # Then on an indented block write the code you want executed\n",
    "    print(\"Hello there.\")"
   ]
  },
  {
   "cell_type": "code",
   "execution_count": null,
   "id": "9415651d",
   "metadata": {},
   "outputs": [],
   "source": [
    "## To call the function, just type the functions name\n",
    "## with parantheses\n",
    "hello_there()"
   ]
  },
  {
   "cell_type": "code",
   "execution_count": null,
   "id": "eb796f70",
   "metadata": {},
   "outputs": [],
   "source": [
    "## You code\n",
    "## Write your own function called general_kenobi\n",
    "## When called it should print the string \"General Kenobi.\"\n",
    "\n"
   ]
  },
  {
   "cell_type": "code",
   "execution_count": null,
   "id": "f8e0c862",
   "metadata": {},
   "outputs": [],
   "source": [
    "## You code\n",
    "# call general_kenobi then hello_there\n",
    "general_kenobi()\n",
    "\n",
    "hello_there()"
   ]
  },
  {
   "cell_type": "markdown",
   "id": "84ede152",
   "metadata": {},
   "source": [
    "### `return` Statements\n",
    "\n",
    "We surely want functions that do more than just print Star Wars prequel references. In fact we will want functions that give us some kind of output, that's the point of the `return` statement.\n",
    "\n",
    "`return`s end the function code chunk, and, as the name suggests, they return some output when called. Let's do an example."
   ]
  },
  {
   "cell_type": "code",
   "execution_count": null,
   "id": "1e831dc3",
   "metadata": {},
   "outputs": [],
   "source": [
    "## here's a simple example\n",
    "def make_two():\n",
    "    return 2"
   ]
  },
  {
   "cell_type": "code",
   "execution_count": null,
   "id": "efa2acb1",
   "metadata": {},
   "outputs": [],
   "source": [
    "## A 2 should be returned\n",
    "make_two()"
   ]
  },
  {
   "cell_type": "code",
   "execution_count": null,
   "id": "68943079",
   "metadata": {},
   "outputs": [],
   "source": [
    "## You code \n",
    "## Write a function that returns the number 3\n",
    "## call it make_three\n",
    "\n"
   ]
  },
  {
   "cell_type": "markdown",
   "id": "d4304cad",
   "metadata": {},
   "source": [
    "### Adding Arguments\n",
    "\n",
    "Sometimes we will want our function to take in some kind of input, do something with it, then return the results. Inputs to python functions are called arguments, let's write a function that has some arguments."
   ]
  },
  {
   "cell_type": "code",
   "execution_count": null,
   "id": "401447fd",
   "metadata": {},
   "outputs": [],
   "source": [
    "## Here we take in a number, x, and \n",
    "## decide if it is divisible by 2\n",
    "## if it is, we return x/2\n",
    "## if it isn't we return (x+1)/2\n",
    "def weird_division(x):\n",
    "    if x%2 == 0:\n",
    "        # double indent\n",
    "        # note that if we hit this return statement\n",
    "        # we exit the function and don't run\n",
    "        # any of the remaining code\n",
    "        return x/2\n",
    "    else:\n",
    "        return (x+1)/2"
   ]
  },
  {
   "cell_type": "code",
   "execution_count": null,
   "id": "7337f38e",
   "metadata": {},
   "outputs": [],
   "source": [
    "## You code\n",
    "## run weird_divison a few times with different inputs\n",
    "## and see what happens\n",
    "\n"
   ]
  },
  {
   "cell_type": "code",
   "execution_count": null,
   "id": "7349c9f7",
   "metadata": {},
   "outputs": [],
   "source": [
    "## You code\n",
    "## write a function that takes in an integer\n",
    "## and returns the string \n",
    "## \"even\" or \"odd\" depending on whether it is\n",
    "## even or odd\n",
    "\n",
    "\n",
    "\n"
   ]
  },
  {
   "cell_type": "markdown",
   "id": "b3f06252",
   "metadata": {},
   "source": [
    "#### Arguments with Default Arguments\n",
    "\n",
    "Sometimes we will need to make a function that has an argument with a default value that can be altered by the user. This can be done!\n",
    "\n",
    "In order to do this you first place all the arguments that must be entered by the user, and then follow it by all the arguments that have a default value. Let's see:"
   ]
  },
  {
   "cell_type": "code",
   "execution_count": null,
   "id": "08055c4a",
   "metadata": {},
   "outputs": [],
   "source": [
    "## x will need to be entered each time it is called\n",
    "## y has a default value of 2, but can be changed\n",
    "def divisible_by(x, y=2):\n",
    "    if x%y == 0:\n",
    "        print(\"Yes.\", x, \"is divisible by\", y)\n",
    "    else:\n",
    "        print(\"No.\", x, \"is not divisble by\", y)"
   ]
  },
  {
   "cell_type": "code",
   "execution_count": null,
   "id": "743936de",
   "metadata": {},
   "outputs": [],
   "source": [
    "## let's first call divisible_by using any integer for x\n",
    "## and keeping y at the default value of 2\n",
    "divisible_by(3)\n",
    "\n",
    "## Now let's change the argument for y\n",
    "## both of the following work\n",
    "divisible_by(3, y=3)\n",
    "\n",
    "divisible_by(3, 3)\n",
    "\n",
    "## but it is good practice to use the variable name\n",
    "## so people who read your code, know what you're doing"
   ]
  },
  {
   "cell_type": "code",
   "execution_count": null,
   "id": "28284cca",
   "metadata": {},
   "outputs": [],
   "source": [
    "## You code\n",
    "## write a function that can take in three numbers x, y, and z\n",
    "## and multiply them\n",
    "## have z default to 17\n",
    "\n"
   ]
  },
  {
   "cell_type": "code",
   "execution_count": null,
   "id": "481e9f2b",
   "metadata": {},
   "outputs": [],
   "source": [
    "## You code\n",
    "## now call that function and use the default value for z\n",
    "\n"
   ]
  },
  {
   "cell_type": "code",
   "execution_count": null,
   "id": "91854084",
   "metadata": {},
   "outputs": [],
   "source": [
    "## You code\n",
    "## now call that function and change the value of z\n",
    "\n"
   ]
  },
  {
   "cell_type": "markdown",
   "id": "f62ffe73",
   "metadata": {},
   "source": [
    "### Variable Scope\n",
    "\n",
    "Maybe you are sitting at your computer worried about what might go wrong if the variable name used in your function is the same as a variable name outside of your function. Well worry no longer.\n",
    "\n",
    "Variables created in a normal non-function code chunk are known as `global variables`. Let's look at an example."
   ]
  },
  {
   "cell_type": "code",
   "execution_count": 1,
   "id": "5ac34374",
   "metadata": {},
   "outputs": [],
   "source": [
    "## running this makes apple a global variable\n",
    "apple = 10"
   ]
  },
  {
   "cell_type": "markdown",
   "id": "84457bcb",
   "metadata": {},
   "source": [
    "After you run the above code chunk `apple` becomes a global variable.\n",
    "\n",
    "Variables defined within a function are known as `local variables`. Let's look at another example."
   ]
  },
  {
   "cell_type": "code",
   "execution_count": 2,
   "id": "0e54ef1d",
   "metadata": {},
   "outputs": [],
   "source": [
    "## Within dumb_function 'apple' is a local variable\n",
    "def dumb_function(apple):\n",
    "    print(apple)"
   ]
  },
  {
   "cell_type": "markdown",
   "id": "afdd3633",
   "metadata": {},
   "source": [
    "In python local variables take precedence over global variables. This means that when we call `dumb_function` the value that gets printed is whatever you input as the `apple` argument."
   ]
  },
  {
   "cell_type": "code",
   "execution_count": 3,
   "id": "884064d8",
   "metadata": {},
   "outputs": [
    {
     "name": "stdout",
     "output_type": "stream",
     "text": [
      "peanut butter\n"
     ]
    }
   ],
   "source": [
    "## STOP\n",
    "## Before running this, what do you think the output will be?\n",
    "## only run once you have thought of the answer \n",
    "dumb_function(\"peanut butter\")"
   ]
  },
  {
   "cell_type": "code",
   "execution_count": 4,
   "id": "1e8e9ff9",
   "metadata": {},
   "outputs": [
    {
     "data": {
      "text/plain": [
       "10"
      ]
     },
     "execution_count": 4,
     "metadata": {},
     "output_type": "execute_result"
    }
   ],
   "source": [
    "## We can check that apple, the global variables\n",
    "## was unchanged by our running of dumb_function\n",
    "apple"
   ]
  },
  {
   "cell_type": "markdown",
   "id": "e6f14b4f",
   "metadata": {},
   "source": [
    "### Anonymous (or Lambda) Functions\n",
    "\n",
    "In some settings it will be useful to use a function without having to store it in memory. In these settings you would want to write an <i>anonymous function</i>, so called because it is not stored within a named variable. In python it is more common to call anonymous functions <i>lambda functions</i>. Let's see why."
   ]
  },
  {
   "cell_type": "code",
   "execution_count": 5,
   "id": "307688ce",
   "metadata": {},
   "outputs": [
    {
     "data": {
      "text/plain": [
       "<function __main__.<lambda>(x)>"
      ]
     },
     "execution_count": 5,
     "metadata": {},
     "output_type": "execute_result"
    }
   ],
   "source": [
    "## The syntax of a lambda function is\n",
    "## lambda arguments: expression\n",
    "## here x is the argument, the expression is x times 2\n",
    "lambda x: x * 2"
   ]
  },
  {
   "cell_type": "code",
   "execution_count": 6,
   "id": "ce2acfc1",
   "metadata": {},
   "outputs": [],
   "source": [
    "## We can abuse this to quickly define a function\n",
    "## without a def or return statement\n",
    "double = lambda x: x * 2"
   ]
  },
  {
   "cell_type": "code",
   "execution_count": 7,
   "id": "ef8aedfa",
   "metadata": {},
   "outputs": [
    {
     "data": {
      "text/plain": [
       "166"
      ]
     },
     "execution_count": 7,
     "metadata": {},
     "output_type": "execute_result"
    }
   ],
   "source": [
    "double(83)"
   ]
  },
  {
   "cell_type": "code",
   "execution_count": 8,
   "id": "601d651d",
   "metadata": {},
   "outputs": [
    {
     "data": {
      "text/plain": [
       "25"
      ]
     },
     "execution_count": 8,
     "metadata": {},
     "output_type": "execute_result"
    }
   ],
   "source": [
    "## You code\n",
    "## Write a lambda function for multiplying a number by 5\n",
    "\n",
    "mult5 = lambda x: x*5\n",
    "mult5(5)\n"
   ]
  },
  {
   "cell_type": "markdown",
   "id": "86cc368a",
   "metadata": {},
   "source": [
    "You might be wondering why lambda functions exist, or when they might be useful. That's fair!\n",
    "\n",
    "Their true use comes later when you have learned a little more python. For example, sometimes we may wish to apply a certain operation to a collection of items all at once, there are ways in python for doing this, and lambda functions can be used to help."
   ]
  },
  {
   "cell_type": "markdown",
   "id": "183f9533",
   "metadata": {},
   "source": [
    "You now know the basics of writing a function in python."
   ]
  },
  {
   "cell_type": "markdown",
   "id": "66a158e2",
   "metadata": {},
   "source": [
    "--------------------------\n",
    "\n",
    "This notebook was written for the Erd&#337;s Institute C&#337;de Data Science Boot Camp by Matthew Osborne, Ph. D., 2023.\n",
    "\n",
    "Any potential redistributors must seek and receive permission from Matthew Tyler Osborne, Ph.D. prior to redistribution. Redistribution of the material contained in this repository is conditional on acknowledgement of Matthew Tyler Osborne, Ph.D.'s original authorship and sponsorship of the Erdős Institute as subject to the license (see License.md)"
   ]
  }
 ],
 "metadata": {
  "kernelspec": {
   "display_name": "erdos_ds_environment",
   "language": "python",
   "name": "python3"
  },
  "language_info": {
   "codemirror_mode": {
    "name": "ipython",
    "version": 3
   },
   "file_extension": ".py",
   "mimetype": "text/x-python",
   "name": "python",
   "nbconvert_exporter": "python",
   "pygments_lexer": "ipython3",
   "version": "3.12.11"
  }
 },
 "nbformat": 4,
 "nbformat_minor": 5
}
