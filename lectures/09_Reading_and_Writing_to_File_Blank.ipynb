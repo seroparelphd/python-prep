{
 "cells": [
  {
   "cell_type": "markdown",
   "id": "eb7c9599",
   "metadata": {},
   "source": [
    "# Reading and Writing to File\n",
    "\n",
    "In this notebook we will see how you can use python to create, read and write to a text file on your computer.\n",
    "\n",
    "By the end of this notebook you will know about:\n",
    "- `file` objects in python,\n",
    "- Writing to a file,\n",
    "- Reading a file and\n",
    "- Preferred `file` object syntax."
   ]
  },
  {
   "cell_type": "markdown",
   "id": "ff2dedcd",
   "metadata": {},
   "source": [
    "## Files\n",
    "\n",
    "Sometimes you may want to read and write data from and to a file, for example like a .csv or .txt file.\n",
    "\n",
    "One way to do this is by using a `file` object in python, if you're interested, here's a link to the python documentation on `file` objects, <a href=\"https://docs.python.org/3/tutorial/inputoutput.html#reading-and-writing-files\">https://docs.python.org/3/tutorial/inputoutput.html#reading-and-writing-files</a>.\n",
    "\n",
    "\n",
    "#### A Note\n",
    "\n",
    "Before moving forward I want to remind you to be mindful of the order in which you execute code chunks inside of `jupyter notebooks`. As we will see in the rest of the notebook, some code needs to be run before/after other code to work properly."
   ]
  },
  {
   "cell_type": "markdown",
   "id": "4a16ef4b",
   "metadata": {},
   "source": [
    "### Writing a `file` Object\n",
    "\n",
    "We will start by seeing how to write to a file object."
   ]
  },
  {
   "cell_type": "code",
   "execution_count": 44,
   "id": "6a9ffa2e",
   "metadata": {},
   "outputs": [
    {
     "data": {
      "text/plain": [
       "<_io.TextIOWrapper name='new_file.txt' mode='w+' encoding='UTF-8'>"
      ]
     },
     "execution_count": 44,
     "metadata": {},
     "output_type": "execute_result"
    }
   ],
   "source": [
    "## we'll store the object in the variable file\n",
    "## we open a file by calling open(file_name, open_method)\n",
    "## for example here we call open(\"new_file.txt\", \"w+\")\n",
    "file = open(\"new_file.txt\", \"w+\")\n",
    "file"
   ]
  },
  {
   "cell_type": "code",
   "execution_count": 45,
   "id": "d166b46c",
   "metadata": {},
   "outputs": [],
   "source": [
    "## We are done with the file for now\n",
    "## So we must CLOSE the file\n",
    "## this is an important step anytime\n",
    "## you're done with a file, if you neglect\n",
    "## to close the file your compute will just keep \n",
    "## all of the files open until you close the \n",
    "## jupyter notebook\n",
    "file.close()"
   ]
  },
  {
   "cell_type": "markdown",
   "id": "52f07594",
   "metadata": {},
   "source": [
    "Go to your jupyter home page. After running that code you should see the file, `new_file.txt`, show up. Why? When we call `open(\"new_file.txt, \"w+\")` it tells our computer to open the file, `new_file.txt`, and the `w+` tells python that we want to write on it. Specifically the `+` tells python that if this file does not exist we want to create it. \n",
    "\n",
    "If we left off the `+` we would have received a file not found error, but now that we've created the file we can open it whenever we want. Let's try below."
   ]
  },
  {
   "cell_type": "code",
   "execution_count": 46,
   "id": "09a35ae9",
   "metadata": {},
   "outputs": [],
   "source": [
    "## now we'll reopen the file, but without the \"+\"\n",
    "file = open(\"new_file.txt\", \"w\")"
   ]
  },
  {
   "cell_type": "code",
   "execution_count": 47,
   "id": "093c5610",
   "metadata": {},
   "outputs": [],
   "source": [
    "## once a file is open in \"w\"rite mode\n",
    "## we can write to it with file.write(string)\n",
    "file.write(\"Now my file has a line in it.\\n\")\n",
    "\n",
    "## the \\n at the end of that line tells python to\n",
    "## make a \"newline\" in the file\n",
    "## let's write a second line\n",
    "file.write(\"This is the second line in the file.\\n\")\n",
    "\n",
    "\n",
    "## I'm done with the file for now, \n",
    "## let's close it.\n",
    "file.close()"
   ]
  },
  {
   "cell_type": "markdown",
   "id": "05b8b648",
   "metadata": {},
   "source": [
    "Before moving on to the next code chunk open up the file and check to see if it wrote what we told it to."
   ]
  },
  {
   "cell_type": "code",
   "execution_count": 48,
   "id": "04ca114a",
   "metadata": {},
   "outputs": [],
   "source": [
    "## You code\n",
    "## open the file in write mode\n",
    "file = open(\"new_file.txt\", \"w\")\n",
    "\n",
    "## write the line \"A third line, might be fine\"\n",
    "file.write(\"A third line, might be fine\\n\")\n",
    "\n",
    "## close the file when you're done\n",
    "file.close()\n"
   ]
  },
  {
   "cell_type": "markdown",
   "id": "2e277f2d",
   "metadata": {},
   "source": [
    "Now open your file again. What happened?\n",
    "\n",
    "The `w` command tells your computer to overwrite any existing data that was there.\n",
    "\n",
    "If we want to append to a file with text already written in it we must open with `a`, which stands for \"a\"ppend."
   ]
  },
  {
   "cell_type": "code",
   "execution_count": 49,
   "id": "b4abd70e",
   "metadata": {},
   "outputs": [],
   "source": [
    "## opening the file with \"a\" instead of \"w\"\n",
    "## tells python we want to append lines to the\n",
    "## file instead of overwrite the existing content\n",
    "file = open(\"new_file.txt\", \"a\")\n",
    "\n",
    "file.write(\"A new line, we won't overwrite the old lines this time!\\n\")\n",
    "\n",
    "file.close()"
   ]
  },
  {
   "cell_type": "markdown",
   "id": "3645da58",
   "metadata": {},
   "source": [
    "Check it one more time! Did I lie to you?"
   ]
  },
  {
   "cell_type": "code",
   "execution_count": 50,
   "id": "bf02a291",
   "metadata": {},
   "outputs": [
    {
     "data": {
      "text/plain": [
       "6"
      ]
     },
     "execution_count": 50,
     "metadata": {},
     "output_type": "execute_result"
    }
   ],
   "source": [
    "## You code\n",
    "## Create a .csv file called \"my_first_data.csv\"\n",
    "file = open(\"my_first_data.csv\", \"w+\")\n",
    "\n",
    "## write a line of column names\n",
    "## \"x\",\"y\",\"z\"\n",
    "## don't close the file yet\n",
    "## Hint: don't forget the \\n!\n",
    "file.write(\"x,y,z\\n\")\n",
    "\n",
    "# column names\n"
   ]
  },
  {
   "cell_type": "code",
   "execution_count": 51,
   "id": "f697dda2",
   "metadata": {},
   "outputs": [],
   "source": [
    "## You code\n",
    "## use a loop to write the following corresponding data\n",
    "## in the correct order,\n",
    "## you can close it when you're done\n",
    "## also separate the x, y and z values with commas\n",
    "x = [1,2,3,4]\n",
    "y = [2,4,6,8]\n",
    "z = [1,8,27,64]\n",
    "\n",
    "## code here\n",
    "## hint you'll have to cast the contents of x, y and z\n",
    "## as strs before writing them to file\n",
    "## don't forget the \\n!\n",
    "for i in range(len(x)):\n",
    "    file.write(str(x[i]) + \",\" + str(y[i]) + \",\" + str(z[i]) + \"\\n\")\n",
    "\n",
    "file.close()"
   ]
  },
  {
   "cell_type": "markdown",
   "id": "03462a7d",
   "metadata": {},
   "source": [
    "Open your file and compare it with `check_data_file.csv` to make sure it matches."
   ]
  },
  {
   "cell_type": "markdown",
   "id": "627b6cb9",
   "metadata": {},
   "source": [
    "### Reading a `file` Object\n",
    "\n",
    "Now let's suppose that we have a file that contains data you would like to read in. Instead of `open(file_name,\"w\")` or `open(file_name,\"a\")`, you write `open(file_name,\"r\")`. You can then read the content with `.read()`. Let's see."
   ]
  },
  {
   "cell_type": "code",
   "execution_count": 52,
   "id": "7380b519",
   "metadata": {},
   "outputs": [
    {
     "name": "stdout",
     "output_type": "stream",
     "text": [
      "A third line, might be fine\n",
      "A new line, we won't overwrite the old lines this time!\n",
      "\n"
     ]
    }
   ],
   "source": [
    "## open the file to read it with \"r\"\n",
    "file = open(\"new_file.txt\", \"r\")\n",
    "\n",
    "print(file.read())"
   ]
  },
  {
   "cell_type": "code",
   "execution_count": 53,
   "id": "e0650d7f",
   "metadata": {},
   "outputs": [
    {
     "name": "stdout",
     "output_type": "stream",
     "text": [
      "\n"
     ]
    }
   ],
   "source": [
    "## You code\n",
    "## try to reread the file's contents using .read()\n",
    "print(file.read())"
   ]
  },
  {
   "cell_type": "markdown",
   "id": "81eca062",
   "metadata": {},
   "source": [
    "What happened?\n",
    "\n",
    "When we called `read()` on our file object the cursor of the object went through all the text and returned it to us, but this process left the cursor at the end of the file's text. Here we can think of the cursor as our own eyeballs. Once you read through all of the text on a page, your eyes will be looking at the end of the page.\n",
    "\n",
    "In order to call `read()` again and return all the text we need to return our cursor back to the begining of the document (i.e. point our eyes back at the top of the page). This is done with a `seek()` call."
   ]
  },
  {
   "cell_type": "code",
   "execution_count": 54,
   "id": "825eca2e",
   "metadata": {},
   "outputs": [
    {
     "data": {
      "text/plain": [
       "0"
      ]
     },
     "execution_count": 54,
     "metadata": {},
     "output_type": "execute_result"
    }
   ],
   "source": [
    "## Go back to the 0th item in the string\n",
    "## aka the beginning of the file's contents\n",
    "file.seek(0)"
   ]
  },
  {
   "cell_type": "code",
   "execution_count": 55,
   "id": "0b951177",
   "metadata": {},
   "outputs": [],
   "source": [
    "## You code\n",
    "## let's try this again store the output of file.read()\n",
    "## in a variable called file_text\n",
    "file_text = file.read()"
   ]
  },
  {
   "cell_type": "code",
   "execution_count": 56,
   "id": "926e2ec6",
   "metadata": {},
   "outputs": [
    {
     "name": "stdout",
     "output_type": "stream",
     "text": [
      "A third line, might be fine\n",
      "A new line, we won't overwrite the old lines this time!\n",
      "\n"
     ]
    }
   ],
   "source": [
    "## You code\n",
    "## print file_text with a print statement to check it worked\n",
    "print(file_text)"
   ]
  },
  {
   "cell_type": "code",
   "execution_count": 57,
   "id": "014ce96f",
   "metadata": {},
   "outputs": [],
   "source": [
    "## close the file\n",
    "file.close()"
   ]
  },
  {
   "cell_type": "code",
   "execution_count": 58,
   "id": "1388ae60",
   "metadata": {},
   "outputs": [],
   "source": [
    "## You code\n",
    "## open your file \"my_first_data.csv\" in \"r\"ead mode\n",
    "file = open(\"my_first_data.csv\", \"r\")\n"
   ]
  },
  {
   "cell_type": "code",
   "execution_count": 59,
   "id": "8618d9ee",
   "metadata": {},
   "outputs": [
    {
     "name": "stdout",
     "output_type": "stream",
     "text": [
      "['x,y,z\\n', '1,2,1\\n', '2,4,8\\n', '3,6,27\\n', '4,8,64\\n']\n"
     ]
    }
   ],
   "source": [
    "## You code\n",
    "## see what the readlines() command does\n",
    "print(file.readlines())"
   ]
  },
  {
   "cell_type": "code",
   "execution_count": 60,
   "id": "66022081",
   "metadata": {},
   "outputs": [],
   "source": [
    "## close the file\n",
    "file.close()"
   ]
  },
  {
   "cell_type": "markdown",
   "id": "e0138cab",
   "metadata": {},
   "source": [
    "### Preferred Syntax\n",
    "\n",
    "While we have been using a variable for the `file` object and then closing the object in a later code chunk, that is not the preferred syntax according to the python documentation.\n",
    "\n",
    "It is good practice to use the `with` keyword when dealing with file objects. Let's see an example of this:"
   ]
  },
  {
   "cell_type": "code",
   "execution_count": 61,
   "id": "e041e12b",
   "metadata": {},
   "outputs": [
    {
     "name": "stdout",
     "output_type": "stream",
     "text": [
      "['x,y,z\\n', '1,2,1\\n', '2,4,8\\n', '3,6,27\\n', '4,8,64\\n']\n"
     ]
    }
   ],
   "source": [
    "## first type with\n",
    "## then type the open statement we have been using throughout\n",
    "## then as whatever_name_you_want\n",
    "## then a colon\n",
    "with open(\"my_first_data.csv\", \"r\") as file:\n",
    "    ## indented write code for all you want to do with your file\n",
    "    print(file.readlines())\n",
    "    \n",
    "## NOTE! You do not need to write a .close statement with this syntax"
   ]
  },
  {
   "cell_type": "markdown",
   "id": "b8052ed6",
   "metadata": {},
   "source": [
    "This is preferred because once you exit the `with` indentations the file is automatically closed, regardless of how the code within the indentation executes."
   ]
  },
  {
   "cell_type": "markdown",
   "id": "d90a0db0",
   "metadata": {},
   "source": [
    "--------------------------\n",
    "\n",
    "This notebook was written for the Erd&#337;s Institute C&#337;de Data Science Boot Camp by Matthew Osborne, Ph. D., 2023.\n",
    "\n",
    "Any potential redistributors must seek and receive permission from Matthew Tyler Osborne, Ph.D. prior to redistribution. Redistribution of the material contained in this repository is conditional on acknowledgement of Matthew Tyler Osborne, Ph.D.'s original authorship and sponsorship of the Erdős Institute as subject to the license (see License.md)"
   ]
  }
 ],
 "metadata": {
  "kernelspec": {
   "display_name": "erdos_ds_environment",
   "language": "python",
   "name": "python3"
  },
  "language_info": {
   "codemirror_mode": {
    "name": "ipython",
    "version": 3
   },
   "file_extension": ".py",
   "mimetype": "text/x-python",
   "name": "python",
   "nbconvert_exporter": "python",
   "pygments_lexer": "ipython3",
   "version": "3.12.11"
  }
 },
 "nbformat": 4,
 "nbformat_minor": 5
}
