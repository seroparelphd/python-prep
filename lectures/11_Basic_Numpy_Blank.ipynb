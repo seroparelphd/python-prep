{
 "cells": [
  {
   "cell_type": "markdown",
   "id": "1cc0501a",
   "metadata": {},
   "source": [
    "# Basic `numpy`\n",
    "\n",
    "In this notebook we will learn about the python package `numpy`.\n",
    "\n",
    "By the end of this notebook you will know about:\n",
    "- Checking the version of a python package,\n",
    "- `numpy` `ndarray`s,\n",
    "- `ndarray` functions,\n",
    "- `numpy` functions,\n",
    "- Pseudorandom numbers in `numpy` and\n",
    "- Linear algebra in `numpy`."
   ]
  },
  {
   "cell_type": "markdown",
   "id": "443bdb03",
   "metadata": {},
   "source": [
    "## `numpy`\n",
    "\n",
    "`numpy` is a python package that is a real workhorse of machine learning and data science.\n",
    "\n",
    "If you are new to python, this will be the first true package you will import. That being said we should check that you have the package installed, try to run the following code chunk. (Note if you installed the Anaconda platform, <a href=\"https://www.anaconda.com/\">https://www.anaconda.com/</a>, `numpy` should be installed already)."
   ]
  },
  {
   "cell_type": "code",
   "execution_count": 1,
   "id": "bbdf9bf8",
   "metadata": {},
   "outputs": [],
   "source": [
    "## it is standard to import numpy as np\n",
    "import numpy as np"
   ]
  },
  {
   "cell_type": "code",
   "execution_count": 3,
   "id": "39e8188a",
   "metadata": {},
   "outputs": [
    {
     "name": "stdout",
     "output_type": "stream",
     "text": [
      "2.2.6\n"
     ]
    }
   ],
   "source": [
    "## let's check what version of numpy you have\n",
    "## when I wrote this I had version 1.24.2\n",
    "## yours may be different\n",
    "print(np.__version__)"
   ]
  },
  {
   "cell_type": "markdown",
   "id": "f7bd8780",
   "metadata": {},
   "source": [
    "If you had a version of `numpy` installed, both of those code chunks should have run without error. If not, you will need to install it onto your machine because we will be using it heavily in the boot camp. For installation instructions check out the `numpy` documentation here, <a href=\"https://numpy.org/install/\">https://numpy.org/install/</a>. If you are unsure how to install a python package in general check our python package installation guide, <a href=\"https://www.erdosinstitute.org/data-science\">https://www.erdosinstitute.org/data-science</a>.\n",
    "\n",
    "\n",
    "##### Be sure you can run both of the above code chunks before continuing with this notebook, again it should be fine if your package version is slightly different than mine."
   ]
  },
  {
   "cell_type": "markdown",
   "id": "10208b8d",
   "metadata": {},
   "source": [
    "### `numpy`'s `ndarray`\n",
    "\n",
    "While base python likes to store data in objects like `list`s and `tuple`s, in `numpy` data is stored in an `ndarray` it is similar to a list, but has a number of features that make it more useful for numeric data manipulation in a number of data science applications.\n",
    "\n",
    "<a href=\"https://numpy.org/doc/stable/reference/generated/numpy.ndarray.html\">https://numpy.org/doc/stable/reference/generated/numpy.ndarray.html</a>."
   ]
  },
  {
   "cell_type": "code",
   "execution_count": 5,
   "id": "9471319d",
   "metadata": {},
   "outputs": [
    {
     "name": "stdout",
     "output_type": "stream",
     "text": [
      "[1 2 3 4]\n",
      "\n",
      "<class 'numpy.ndarray'>\n"
     ]
    }
   ],
   "source": [
    "## You can make an array with np.array\n",
    "## You just put np.array() around a python list or tuple\n",
    "array1 = np.array([1,2,3,4])\n",
    "print(array1)\n",
    "print()\n",
    "print(type(array1))"
   ]
  },
  {
   "cell_type": "markdown",
   "id": "52c085ff",
   "metadata": {},
   "source": [
    "`numpy` `ndarray`s can have any finite number of dimensions. This can be constructed by wrapping `np.array` around a `list` of `list`s."
   ]
  },
  {
   "cell_type": "code",
   "execution_count": 8,
   "id": "7fa372d4",
   "metadata": {},
   "outputs": [
    {
     "name": "stdout",
     "output_type": "stream",
     "text": [
      "[[1 2 3]\n",
      " [3 4 5]]\n",
      "\n",
      "array2 is a (2, 3) ndarray\n"
     ]
    }
   ],
   "source": [
    "## this produces a 2-dimensional array\n",
    "## it is a 2x2 array\n",
    "array2 = np.array([[1,2,3],[3,4,5]])\n",
    "print(array2)\n",
    "print()\n",
    "\n",
    "## we can check the array's dimensions with np.shape()\n",
    "## np.shape() returns a tuple with the size of each dimension\n",
    "## array2 should be a 2 by 2 array\n",
    "print(\"array2 is a\", np.shape(array2), \"ndarray\")"
   ]
  },
  {
   "cell_type": "code",
   "execution_count": 9,
   "id": "11769736",
   "metadata": {},
   "outputs": [
    {
     "data": {
      "text/plain": [
       "(2, 3)"
      ]
     },
     "execution_count": 9,
     "metadata": {},
     "output_type": "execute_result"
    }
   ],
   "source": [
    "array2.shape"
   ]
  },
  {
   "cell_type": "markdown",
   "id": "95773636",
   "metadata": {},
   "source": [
    "<i>Note: the dimensionality of an `ndarray` will be quite important in our boot camp because certain algorithms will not run if the `ndarray` is the wrong shape.</i>"
   ]
  },
  {
   "cell_type": "code",
   "execution_count": 14,
   "id": "d4716389",
   "metadata": {},
   "outputs": [
    {
     "name": "stdout",
     "output_type": "stream",
     "text": [
      "[[[1 2]\n",
      "  [3 4]]\n",
      "\n",
      " [[5 6]\n",
      "  [7 8]]]\n",
      "\n",
      "(2, 2, 2)\n"
     ]
    }
   ],
   "source": [
    "## You code\n",
    "## Try making a 2x2x2 array\n",
    "array3 = np.array([[[1,2],[3,4]],[[5,6],[7,8]]])\n",
    "print(array3)\n",
    "print()\n",
    "print(array3.shape)"
   ]
  },
  {
   "cell_type": "code",
   "execution_count": 16,
   "id": "bb1e8f35",
   "metadata": {},
   "outputs": [
    {
     "name": "stdout",
     "output_type": "stream",
     "text": [
      "[[[[1 1]\n",
      "   [2 2]]\n",
      "\n",
      "  [[3 3]\n",
      "   [4 4]]]\n",
      "\n",
      "\n",
      " [[[1 1]\n",
      "   [2 2]]\n",
      "\n",
      "  [[3 3]\n",
      "   [4 4]]]]\n",
      "\n",
      "(2, 2, 2, 2)\n"
     ]
    }
   ],
   "source": [
    "## You code \n",
    "## Try making a 2x2x2x2 array\n",
    "# array4 = np.array([[[1,2],[3,4]],[[5,6],[7,8]],[[9,10],[11,12]],[[13,14],[15,16]]])\n",
    "array4 = np.array([[[[1,1], [2,2]], [[3,3], [4,4]]], [[[1,1], [2,2]], [[3,3], [4,4]]]])\n",
    "print(array4)\n",
    "print()\n",
    "print(np.shape(array4))\n"
   ]
  },
  {
   "cell_type": "markdown",
   "id": "142af141",
   "metadata": {},
   "source": [
    "### `ndarray` Functions\n",
    "\n",
    "#### Vectorized Operations\n",
    "\n",
    "`ndarray`s are nice because, for the most part, they work the way you'd expect a vector or matrix to work. Let's compare and contrast with python's `list`s."
   ]
  },
  {
   "cell_type": "code",
   "execution_count": 17,
   "id": "59fa0666",
   "metadata": {},
   "outputs": [
    {
     "data": {
      "text/plain": [
       "[1, 2, 3, 4, 1, 2, 3, 4]"
      ]
     },
     "execution_count": 17,
     "metadata": {},
     "output_type": "execute_result"
    }
   ],
   "source": [
    "## You code\n",
    "## see what happens when you code up 2*list1\n",
    "list1 = [1,2,3,4]\n",
    "2*list1"
   ]
  },
  {
   "cell_type": "code",
   "execution_count": 19,
   "id": "a2563d7b",
   "metadata": {},
   "outputs": [
    {
     "name": "stdout",
     "output_type": "stream",
     "text": [
      "[1 2 3 4]\n",
      "[2 4 6 8]\n"
     ]
    }
   ],
   "source": [
    "## You code\n",
    "## Now compare it to 2*array1\n",
    "print(array1)\n",
    "print(2*array1)\n"
   ]
  },
  {
   "cell_type": "code",
   "execution_count": 21,
   "id": "24dfa6c1",
   "metadata": {},
   "outputs": [
    {
     "data": {
      "text/plain": [
       "[1, 2, 3, 4, 5, 6, 7, 8]"
      ]
     },
     "execution_count": 21,
     "metadata": {},
     "output_type": "execute_result"
    }
   ],
   "source": [
    "## what happens here?\n",
    "list2 = [5,6,7,8]\n",
    "list1 + list2"
   ]
  },
  {
   "cell_type": "code",
   "execution_count": 23,
   "id": "80b661de",
   "metadata": {},
   "outputs": [
    {
     "name": "stdout",
     "output_type": "stream",
     "text": [
      "[5, 6, 7, 8]\n",
      "[ 6  8 10 12]\n"
     ]
    }
   ],
   "source": [
    "## You code\n",
    "## code up the comparable ndarray expression\n",
    "## and see what happens\n",
    "array2 = [5,6,7,8]\n",
    "print(array2)\n",
    "print(array1 + array2)"
   ]
  },
  {
   "cell_type": "code",
   "execution_count": 24,
   "id": "ebc8e7eb",
   "metadata": {},
   "outputs": [
    {
     "ename": "TypeError",
     "evalue": "can only concatenate list (not \"int\") to list",
     "output_type": "error",
     "traceback": [
      "\u001b[31m---------------------------------------------------------------------------\u001b[39m",
      "\u001b[31mTypeError\u001b[39m                                 Traceback (most recent call last)",
      "\u001b[36mCell\u001b[39m\u001b[36m \u001b[39m\u001b[32mIn[24]\u001b[39m\u001b[32m, line 2\u001b[39m\n\u001b[32m      1\u001b[39m \u001b[38;5;66;03m## Finally what happens here?\u001b[39;00m\n\u001b[32m----> \u001b[39m\u001b[32m2\u001b[39m \u001b[43mlist1\u001b[49m\u001b[43m \u001b[49m\u001b[43m+\u001b[49m\u001b[43m \u001b[49m\u001b[32;43m2\u001b[39;49m\n",
      "\u001b[31mTypeError\u001b[39m: can only concatenate list (not \"int\") to list"
     ]
    }
   ],
   "source": [
    "## Finally what happens here?\n",
    "list1 + 2"
   ]
  },
  {
   "cell_type": "code",
   "execution_count": 25,
   "id": "4a92941a",
   "metadata": {},
   "outputs": [
    {
     "data": {
      "text/plain": [
       "array([3, 4, 5, 6])"
      ]
     },
     "execution_count": 25,
     "metadata": {},
     "output_type": "execute_result"
    }
   ],
   "source": [
    "## Try the comparable ndarray expression\n",
    "array1 + 2\n"
   ]
  },
  {
   "cell_type": "code",
   "execution_count": 28,
   "id": "8fde1bee",
   "metadata": {},
   "outputs": [
    {
     "name": "stdout",
     "output_type": "stream",
     "text": [
      "[[1 2]\n",
      " [1 2]]  *  [[1 1]\n",
      " [1 1]]  = \n",
      " [[1 2]\n",
      " [1 2]]\n"
     ]
    }
   ],
   "source": [
    "A = np.array([[1,2], [1,2]])\n",
    "\n",
    "B = np.array([[1,1], [1,1]])\n",
    "\n",
    "\n",
    "A*B\n",
    "print(A,\" * \",B,\" = \\n\",A*B)"
   ]
  },
  {
   "cell_type": "markdown",
   "id": "ff429ad8",
   "metadata": {},
   "source": [
    "### Preset `numpy` Arrays\n",
    "\n",
    "There are a number of standard array types that you will want to use, that can be quickly generated."
   ]
  },
  {
   "cell_type": "code",
   "execution_count": null,
   "id": "64174fc6",
   "metadata": {},
   "outputs": [],
   "source": [
    "## np.ones(shape) makes an array of all ones of the desired shape\n",
    "print(np.ones(1))\n",
    "\n",
    "print()\n",
    "\n",
    "print(np.ones((4,10)))\n",
    "\n",
    "print()\n",
    "\n",
    "print(np.ones((2,2,2)))\n",
    "\n",
    "print()\n",
    "print(np.ones((2,3,2)))"
   ]
  },
  {
   "cell_type": "code",
   "execution_count": null,
   "id": "cacbdfd8",
   "metadata": {},
   "outputs": [],
   "source": [
    "## You code\n",
    "## np.zeros(shape) is similar to np.ones, but instead of 1s\n",
    "## it makes an array of 0s\n",
    "## print 3 arrays of zeros, \n",
    "## one that is a single dimension of size 4\n",
    "\n",
    "\n",
    "## one that is 4x5\n",
    "\n",
    "\n",
    "## one that is 3x1x4\n"
   ]
  },
  {
   "cell_type": "code",
   "execution_count": null,
   "id": "ba91450d",
   "metadata": {},
   "outputs": [],
   "source": [
    "## nxn identity matrix \n",
    "## np.eye(n)\n",
    "\n",
    "## 2x2\n",
    "np.eye(2)"
   ]
  },
  {
   "cell_type": "markdown",
   "id": "7bd1939b",
   "metadata": {},
   "source": [
    "### Built-In `numpy` Functions\n",
    "\n",
    "`numpy` also has a number of built-in functions that provide useful mathematical operations on arrays. Let's look at some examples."
   ]
  },
  {
   "cell_type": "code",
   "execution_count": null,
   "id": "233a98e7",
   "metadata": {},
   "outputs": [],
   "source": [
    "y = 2*np.array([1,2,3]) - 4\n",
    "y"
   ]
  },
  {
   "cell_type": "code",
   "execution_count": null,
   "id": "ad7eead2",
   "metadata": {},
   "outputs": [],
   "source": [
    "## absolute value\n",
    "np.abs(y)"
   ]
  },
  {
   "cell_type": "code",
   "execution_count": null,
   "id": "7af4efed",
   "metadata": {},
   "outputs": [],
   "source": [
    "## raising each entry to a power\n",
    "np.power(y, 3)"
   ]
  },
  {
   "cell_type": "code",
   "execution_count": null,
   "id": "792803a6",
   "metadata": {},
   "outputs": [],
   "source": [
    "## the square root\n",
    "np.sqrt(np.abs(y))"
   ]
  },
  {
   "cell_type": "code",
   "execution_count": null,
   "id": "c95cc65e",
   "metadata": {},
   "outputs": [],
   "source": [
    "## You code\n",
    "## using np.exp and np.log define y to be \n",
    "## e^(x+3) + log(|x|+1)\n",
    "## https://numpy.org/doc/stable/reference/generated/numpy.exp.html\n",
    "## https://numpy.org/doc/stable/reference/generated/numpy.log.html\n",
    "x = np.array([0,1,2,3,4])\n",
    "\n",
    "y = "
   ]
  },
  {
   "cell_type": "code",
   "execution_count": null,
   "id": "7869d535",
   "metadata": {},
   "outputs": [],
   "source": [
    "## You can sum all of the entries of an array with\n",
    "## np.sum\n",
    "np.sum(y)"
   ]
  },
  {
   "cell_type": "markdown",
   "id": "e38b44df",
   "metadata": {},
   "source": [
    "### `numpy` for Pseudorandomness\n",
    "\n",
    "`numpy` is useful for generating pseudorandom numbers as well. We can look at common statistics of arrays too.\n",
    "\n",
    "The pseudorandom functionality is stored in the `random` subpackage of `numpy`. Documentation for `numpy.random` can be found here, <a href=\"https://numpy.org/doc/stable/reference/random/index.html\">https://numpy.org/doc/stable/reference/random/index.html</a>."
   ]
  },
  {
   "cell_type": "code",
   "execution_count": null,
   "id": "76797101",
   "metadata": {},
   "outputs": [],
   "source": [
    "## random generators are stored in np.random\n",
    "## a np.random.random() gives a number selected uniformly\n",
    "## at random from [0,1]\n",
    "## https://numpy.org/doc/stable/reference/random/generated/numpy.random.random.html\n",
    "print(np.random.random())\n",
    "\n",
    "\n",
    "print()\n",
    "\n",
    "## You can get a random array of any shape as well\n",
    "## just call np.random.random(tuple containing the shape)\n",
    "print(\"A (10,2) uniform random array:\\n\", np.random.random((10,2)))"
   ]
  },
  {
   "cell_type": "code",
   "execution_count": null,
   "id": "ecde2fc6",
   "metadata": {},
   "outputs": [],
   "source": [
    "## Another Example\n",
    "## np.random.randn() is a normal(0,1) number\n",
    "## a single draw\n",
    "## https://numpy.org/doc/stable/reference/random/generated/numpy.random.randn.html\n",
    "print(np.random.randn())\n",
    "print()\n",
    "\n",
    "## an array of draws\n",
    "## note the slight difference here, we don't have to put\n",
    "## the 10 and 2 in a tuple to get a 10 by 2 array\n",
    "## numpy is slightly inconsistent in this area so always\n",
    "## check the docs to get it right\n",
    "np.random.randn(10,2)"
   ]
  },
  {
   "cell_type": "code",
   "execution_count": null,
   "id": "641ae1db",
   "metadata": {},
   "outputs": [],
   "source": [
    "## A third example\n",
    "## np.random.binomial()\n",
    "## an array of binomial(n,p) outcomes\n",
    "## https://numpy.org/doc/stable/reference/random/generated/numpy.random.binomial.html\n",
    "np.random.binomial(n=4, p=.3, size=(10,10))"
   ]
  },
  {
   "cell_type": "markdown",
   "id": "0baa5eeb",
   "metadata": {},
   "source": [
    "##### Random Seeds\n",
    "\n",
    "You may have noticed that your randomly generated numbers are different from the ones in the pre-recorded lecture (if you are watching the lecture that is!). This is expected because they are random numbers. It would be quite the coincidence if two different runs came up with the exact same random draw (for the random distributions we have looked at above).\n",
    "\n",
    "If you want to ensure that you get the same random draw across runs you first need to set a random seed. In `numpy` this is done with `numpy.random.seed()`, <a href=\"https://numpy.org/doc/stable/reference/random/generated/numpy.random.seed.html\">https://numpy.org/doc/stable/reference/random/generated/numpy.random.seed.html</a>. Let's see it in action."
   ]
  },
  {
   "cell_type": "code",
   "execution_count": null,
   "id": "517a417c",
   "metadata": {},
   "outputs": [],
   "source": [
    "## Run this code chunk as many times as you'd like\n",
    "## it should always give the same number\n",
    "\n",
    "## to set a random seed you call np.random.seed(integer >= 0)\n",
    "## Note that your number can be any integer so long as it is non-negative\n",
    "np.random.seed(440)\n",
    "\n",
    "np.random.randn()"
   ]
  },
  {
   "cell_type": "code",
   "execution_count": null,
   "id": "0eea3469",
   "metadata": {},
   "outputs": [],
   "source": [
    "## You code\n",
    "## make a 20 by 3 array of random normal draws\n",
    "## call it X\n"
   ]
  },
  {
   "cell_type": "code",
   "execution_count": null,
   "id": "771dbee9",
   "metadata": {},
   "outputs": [],
   "source": [
    "X"
   ]
  },
  {
   "cell_type": "markdown",
   "id": "6bb2128d",
   "metadata": {},
   "source": [
    "Now that you have a data matrix, `X`. Let's compute some summary statistics about `X`."
   ]
  },
  {
   "cell_type": "code",
   "execution_count": null,
   "id": "792d9bd3",
   "metadata": {},
   "outputs": [],
   "source": [
    "## You can get the mean of all the entries of X with np.mean\n",
    "## https://numpy.org/doc/stable/reference/generated/numpy.mean.html\n",
    "print(\"The overall mean of X is\", np.mean(X))\n",
    "print()\n",
    "\n",
    "## Adding in the argument \"axis = \" allows you to get\n",
    "## the mean of each column\n",
    "print(\"The column means of X are\", np.mean(X, axis=0))\n",
    "print()\n",
    "\n",
    "## and the mean of each row\n",
    "print(\"The row means of X are\", np.mean(X, axis=1))\n",
    "print()\n",
    "\n",
    "## the axis argument tells numpy the axis or axes along \n",
    "## which the means are computed.\n",
    "## so axis = 0 adds up the values in each row position\n",
    "## and divides by the number of rows\n",
    "\n",
    "## If you find this confusing, do not worry, I do too"
   ]
  },
  {
   "cell_type": "code",
   "execution_count": null,
   "id": "9c76efeb",
   "metadata": {},
   "outputs": [],
   "source": [
    "## You code\n",
    "## np.sum also has an axis argument\n",
    "## https://numpy.org/doc/stable/reference/generated/numpy.sum.html\n",
    "## calculate the row sums and column sums of X\n",
    "print(\"Row sums of X\", )\n",
    "\n",
    "print()\n",
    "print()\n",
    "\n",
    "print(\"Column sums of X\", )\n",
    "\n",
    "\n"
   ]
  },
  {
   "cell_type": "code",
   "execution_count": null,
   "id": "8631b02a",
   "metadata": {},
   "outputs": [],
   "source": [
    "## You code\n",
    "## where does the max value occur in each column of X?\n",
    "## https://numpy.org/doc/stable/reference/generated/numpy.argmax.html\n",
    "print(\"The max. values of each column of X occur at the\", , \"rows\")\n",
    "\n",
    "\n",
    "## what is the max value in each column of X?\n",
    "## https://numpy.org/doc/stable/reference/generated/numpy.ndarray.max.html\n",
    "print(\"The max values in each column of X are\", )\n"
   ]
  },
  {
   "cell_type": "code",
   "execution_count": null,
   "id": "f53c5ee8",
   "metadata": {},
   "outputs": [],
   "source": [
    "## Another useful function is np.cumsum()\n",
    "## https://numpy.org/doc/stable/reference/generated/numpy.cumsum.html\n",
    "\n",
    "## randint generates a random integer between the\n",
    "## first two arguments, the third argument tells numpy\n",
    "## how many random draws to perform\n",
    "## https://numpy.org/doc/stable/reference/random/generated/numpy.random.randint.html\n",
    "x = np.random.randint(1,10,10)\n",
    "\n",
    "print(x)\n",
    "\n",
    "np.cumsum(x)\n",
    "\n",
    "## What do you think it does?"
   ]
  },
  {
   "cell_type": "markdown",
   "id": "7e4a43b7",
   "metadata": {},
   "source": [
    "### Linear Algebra with `numpy`\n",
    "\n",
    "A final important use for us is `numpy` as a way to perform linear algebra calculations.\n",
    "\n",
    "A bulk of data science algorithms use linear algebra, since we will dive into the math behind the scenes of these algorithms we will use `numpy`'s linear algebra capabilities.\n",
    "\n",
    "##### Note: If you're not a math heavy person, that's okay! I have written the boot camp's notebooks so that you don't need to understand the math to learn how to perform the algorithms we cover. I just like to cover the mathematical aspects of these data science algorithms to explain what is going on to those boot campers (like myself) that are interested in the mathematical/statistical underpinnings of the algorithms."
   ]
  },
  {
   "cell_type": "code",
   "execution_count": null,
   "id": "8a187c25",
   "metadata": {},
   "outputs": [],
   "source": [
    "## We can think of a 2D array as a matrix\n",
    "A = np.random.binomial(n=10,p=.4,size=(2,2))\n",
    "\n",
    "A"
   ]
  },
  {
   "cell_type": "code",
   "execution_count": null,
   "id": "d5a9caa6",
   "metadata": {},
   "outputs": [],
   "source": [
    "## A 1d array can be a row vector\n",
    "x = np.array([1,2])\n",
    "x.shape"
   ]
  },
  {
   "cell_type": "code",
   "execution_count": null,
   "id": "2c499257",
   "metadata": {},
   "outputs": [],
   "source": [
    "## or a column vector\n",
    "## .reshape() will attempt to reshape your array into the given\n",
    "## shape\n",
    "## https://numpy.org/doc/stable/reference/generated/numpy.ndarray.reshape.html\n",
    "\n",
    "## When one of the shape dimensions is -1, the value is inferred from \n",
    "## the length of the array and remaining dimensions.\n",
    "## so -1,1 tells numpy that you want a 2-D array with 1 column\n",
    "## and it should infer the number of rows from the original shape\n",
    "## of the array\n",
    "## Here this reshapes x as a 2x1 column vector\n",
    "x.reshape(-1, 1).shape"
   ]
  },
  {
   "cell_type": "code",
   "execution_count": null,
   "id": "ece2ce33",
   "metadata": {},
   "outputs": [],
   "source": [
    "## We can now calculate A*x\n",
    "## matrix.dot() is used for matrix mult\n",
    "A.dot(x.reshape(-1,1))"
   ]
  },
  {
   "cell_type": "code",
   "execution_count": null,
   "id": "a1e26d3d",
   "metadata": {},
   "outputs": [],
   "source": [
    "## You code\n",
    "## make a 3x1 column vector of ones, call it x\n",
    "x = \n",
    "\n",
    "np.random.seed(576)\n",
    "## Take that vector and find B*x\n",
    "B = np.random.binomial(n=5, p=.6, size=(3,3))\n",
    "\n",
    "\n",
    "print(B, \"x\", x, \"=\")\n",
    "\n",
    "## code here\n"
   ]
  },
  {
   "cell_type": "code",
   "execution_count": null,
   "id": "3b4a1e9c",
   "metadata": {},
   "outputs": [],
   "source": [
    "## numpy.linalg contains a number of useful\n",
    "## matrix operations, let's import a few\n",
    "## note this is just for brevity in typing\n",
    "from numpy.linalg import inv, eig, det"
   ]
  },
  {
   "cell_type": "code",
   "execution_count": null,
   "id": "d94f2c26",
   "metadata": {},
   "outputs": [],
   "source": [
    "## Recall our A\n",
    "A"
   ]
  },
  {
   "cell_type": "code",
   "execution_count": null,
   "id": "a4978123",
   "metadata": {},
   "outputs": [],
   "source": [
    "## the inverse of A\n",
    "## Note you may get an error here if A is not\n",
    "## invertible\n",
    "inv(A)"
   ]
  },
  {
   "cell_type": "code",
   "execution_count": null,
   "id": "fe83d45a",
   "metadata": {},
   "outputs": [],
   "source": [
    "## the determinant of A\n",
    "det(A)"
   ]
  },
  {
   "cell_type": "code",
   "execution_count": null,
   "id": "510f2ba1",
   "metadata": {},
   "outputs": [],
   "source": [
    "## the eigenvalues and eigenvectors of A\n",
    "eig(A)\n",
    "\n",
    "## this returns a tuple of arrays\n",
    "## the first entry are the eigenvalues\n",
    "## the second entry are the corresponding eigenvectors"
   ]
  },
  {
   "cell_type": "code",
   "execution_count": null,
   "id": "b23bc8a8",
   "metadata": {},
   "outputs": [],
   "source": [
    "## matrix.transpose() computes the transpose of the matrix\n",
    "A.transpose()"
   ]
  },
  {
   "cell_type": "code",
   "execution_count": null,
   "id": "d3d5e832",
   "metadata": {},
   "outputs": [],
   "source": [
    "## You code\n",
    "b = np.array([2,5]).reshape(-1,1)\n",
    "\n",
    "## Attempt to solve Ax = b for x\n",
    "## Hint remember that if A is invertible, \n",
    "## x = A^{-1} b, where A^{-1} is the inverse of A\n"
   ]
  },
  {
   "cell_type": "markdown",
   "id": "1a38ee65",
   "metadata": {},
   "source": [
    "That's it for this notebook. You have now been introduced to `numpy` and our ready to take on the practice problems. Be sure to get a fair level of comfort with `numpy`'s functionality because we will be using it a lot."
   ]
  },
  {
   "cell_type": "markdown",
   "id": "5e35bfeb",
   "metadata": {},
   "source": [
    "--------------------------\n",
    "\n",
    "This notebook was written for the Erd&#337;s Institute C&#337;de Data Science Boot Camp by Matthew Osborne, Ph. D., 2023.\n",
    "\n",
    "Any potential redistributors must seek and receive permission from Matthew Tyler Osborne, Ph.D. prior to redistribution. Redistribution of the material contained in this repository is conditional on acknowledgement of Matthew Tyler Osborne, Ph.D.'s original authorship and sponsorship of the Erdős Institute as subject to the license (see License.md)"
   ]
  },
  {
   "cell_type": "code",
   "execution_count": null,
   "id": "a2ce880e",
   "metadata": {},
   "outputs": [],
   "source": []
  },
  {
   "cell_type": "code",
   "execution_count": null,
   "id": "8b7e68d2",
   "metadata": {},
   "outputs": [],
   "source": []
  }
 ],
 "metadata": {
  "kernelspec": {
   "display_name": "erdos_ds_environment",
   "language": "python",
   "name": "python3"
  },
  "language_info": {
   "codemirror_mode": {
    "name": "ipython",
    "version": 3
   },
   "file_extension": ".py",
   "mimetype": "text/x-python",
   "name": "python",
   "nbconvert_exporter": "python",
   "pygments_lexer": "ipython3",
   "version": "3.12.11"
  }
 },
 "nbformat": 4,
 "nbformat_minor": 5
}
